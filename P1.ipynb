{
 "cells": [
  {
   "cell_type": "markdown",
   "metadata": {},
   "source": [
    "# Self-Driving Car Engineer Nanodegree\n",
    "\n",
    "\n",
    "## Project: **Finding Lane Lines on the Road** \n",
    "***\n",
    "In this project, we use the tools we learned about in the lesson to identify lane lines on the road.  We develop a pipeline on a series of individual images, and later apply the result to a video stream.\n",
    "\n",
    "The pipeline can be described as follows:\n",
    "\n",
    "1. Input image is converted to grayscale.\n",
    "2. Two color masks are computed and combined, for white and yellow color.\n",
    "3. The color masks are applied to clear all colors outside the selected color ranges.\n",
    "4. Gaussian smoothing is applied.\n",
    "5. Canny edge detection is applied to reveal edges.\n",
    "6. Hough transform is applied to convert the points in the image to lines.\n",
    "7. The lines are averaged and extended to their extreme points to output two single lines for left and right.\n",
    "8. The averaged lines are smoothed based on their endpoints using moving average.\n",
    "9. The lines are drawn on top of the original color image (annotation).\n",
    "10. The results are saved to relevant files.\n",
    "---"
   ]
  },
  {
   "cell_type": "markdown",
   "metadata": {},
   "source": [
    "## Import Packages"
   ]
  },
  {
   "cell_type": "code",
   "execution_count": 1,
   "metadata": {
    "collapsed": false
   },
   "outputs": [],
   "source": [
    "import matplotlib.pyplot as plt\n",
    "import matplotlib.image as mpimg\n",
    "import numpy as np\n",
    "import cv2\n",
    "from moviepy.editor import VideoFileClip\n",
    "from IPython.display import HTML\n",
    "import os\n",
    "import math\n",
    "\n",
    "%matplotlib inline\n",
    "\n",
    "is_first_frame = False\n",
    "\n",
    "avgLeft = (0, 0, 0, 0)\n",
    "avgRight = (0, 0, 0, 0)"
   ]
  },
  {
   "cell_type": "markdown",
   "metadata": {},
   "source": [
    "## Helper Functions"
   ]
  },
  {
   "cell_type": "code",
   "execution_count": 2,
   "metadata": {
    "collapsed": true
   },
   "outputs": [],
   "source": [
    "def movingAverage(avg, new_sample, N=20):\n",
    "    \"\"\"\n",
    "    Used to eliminate jitter for the final left, right lines\n",
    "    produced by the pipeline. Uses the global variables avgLeft,\n",
    "    avgRight, which represent the endpoints for the left and \n",
    "    right lines\n",
    "    \"\"\"\n",
    "    if (avg == 0):\n",
    "        return new_sample\n",
    "    avg -= avg / N;\n",
    "    avg += new_sample / N;\n",
    "    return avg;\n",
    "\n",
    "def grayscale(img):\n",
    "    \"\"\"Applies the Grayscale transform\n",
    "    This will return an image with only one color channel\n",
    "    but NOTE: to see the returned image as grayscale\n",
    "    (assuming your grayscaled image is called 'gray')\n",
    "    you should call plt.imshow(gray, cmap='gray')\"\"\"\n",
    "    return cv2.cvtColor(img, cv2.COLOR_RGB2GRAY)\n",
    "    \n",
    "def canny(img, low_threshold, high_threshold):\n",
    "    \"\"\"Applies the Canny transform\"\"\"\n",
    "    return cv2.Canny(img, low_threshold, high_threshold)\n",
    "\n",
    "def gaussian_blur(img, kernel_size):\n",
    "    \"\"\"Applies a Gaussian Noise kernel\"\"\"\n",
    "    return cv2.GaussianBlur(img, (kernel_size, kernel_size), 0)\n",
    "\n",
    "def region_of_interest(img, vertices):\n",
    "    \"\"\"\n",
    "    Applies an image mask.\n",
    "    \n",
    "    Only keeps the region of the image defined by the polygon\n",
    "    formed from `vertices`. The rest of the image is set to black.\n",
    "    \"\"\"\n",
    "    #defining a blank mask to start with\n",
    "    mask = np.zeros_like(img)   \n",
    "    \n",
    "    #defining a 3 channel or 1 channel color to fill the mask with depending on the input image\n",
    "    if len(img.shape) > 2:\n",
    "        channel_count = img.shape[2]  # i.e. 3 or 4 depending on your image\n",
    "        ignore_mask_color = (255,) * channel_count\n",
    "    else:\n",
    "        ignore_mask_color = 255\n",
    "        \n",
    "    #filling pixels inside the polygon defined by \"vertices\" with the fill color    \n",
    "    cv2.fillPoly(mask, vertices, ignore_mask_color)\n",
    "    \n",
    "    #returning the image only where mask pixels are nonzero\n",
    "    masked_image = cv2.bitwise_and(img, mask)\n",
    "    return masked_image\n",
    "\n",
    "\n",
    "def draw_lines(img, lines, upper_boundary, color=[255, 0, 0], thickness=12):\n",
    "    \"\"\"\n",
    "    Draws the lines resulted from the Hough tranform, annotating the original image\n",
    "    \"\"\"\n",
    "    \n",
    "    # Tries to identify if we process the first frame of the video stream in\n",
    "    # order to set initial conditions for the moving average used for smoothing\n",
    "    global is_first_frame\n",
    "\n",
    "    # Our goal is to classify the lines in set of lines belonging to the left and \n",
    "    # right group, where the medium is an imaginary line that splits the image\n",
    "    # vertically in two halves\n",
    "    h, w, ch = img.shape\n",
    "\n",
    "    # We will find the average values for all endpoints of all lines \n",
    "    # for each group of lines belonging to the left or right group\n",
    "    left_y_avg = 0\n",
    "    left_x_avg = 0\n",
    "    left_slope_avg = 0\n",
    "    left_lines_count = 0\n",
    "\n",
    "    right_y_avg = 0\n",
    "    right_x_avg = 0\n",
    "    right_slope_avg = 0\n",
    "    right_lines_count = 0\n",
    "\n",
    "    for line in lines:\n",
    "        for x1, y1, x2, y2 in line:\n",
    "\n",
    "            # I 'd rather work with cartesian than with image coordinates\n",
    "            y1 = h - y1\n",
    "            y2 = h - y2\n",
    "\n",
    "            # Find the slope of current line\n",
    "            slope = (y2 - y1) / (x2 - x1)\n",
    "\n",
    "            # If line is nearly horizontal, a division by zero might occur\n",
    "            # Discard it\n",
    "            if (slope<0.1) and (slope>-0.1):\n",
    "                continue\n",
    "\n",
    "            # Since we inverted the vertical axis\n",
    "            # positive slope means left line group\n",
    "            # Checks out also the position relative to\n",
    "            # the imaginary verical line splitting vertically the image\n",
    "            # in two halves\n",
    "            if ((slope) > 0) and (x1 < (w / 2)):        # left\n",
    "                left_slope_avg = left_slope_avg + slope\n",
    "                left_y_avg = left_y_avg + ((y2 + y1) / 2)\n",
    "                left_x_avg = left_x_avg + ((x2 + x1) / 2)\n",
    "                left_lines_count = left_lines_count + 1\n",
    "            else:\n",
    "                right_slope_avg = right_slope_avg + slope\n",
    "                right_y_avg = right_y_avg + ((y2 + y1) / 2)\n",
    "                right_x_avg = right_x_avg + ((x2 + x1) / 2)\n",
    "                right_lines_count = right_lines_count + 1\n",
    "\n",
    "    # Found some lines for left\n",
    "    if (left_lines_count > 0):\n",
    "        # Found average values for all endpoints. \n",
    "        # Essentially this defines a point in the final line we \n",
    "        # want to draw: (x0, y0)\n",
    "        left_y_avg = (left_y_avg) / left_lines_count\n",
    "        left_x_avg = left_x_avg / left_lines_count\n",
    "        # Found the average slope, essentially the slope of the\n",
    "        # final line we want to draw\n",
    "        left_slope_avg = left_slope_avg / left_lines_count\n",
    "        # y0 = slope * x0 + beta => beta = (y0 - slope * x0) \n",
    "        left_beta = left_y_avg - (left_slope_avg * left_x_avg)\n",
    "        \n",
    "        # Solving the line equation dor x to find lower and upper values\n",
    "        left_x_bottom = (0 - left_beta) / left_slope_avg\n",
    "        left_x_top = ((h-upper_boundary) - left_beta) / left_slope_avg\n",
    "\n",
    "        global avgLeft\n",
    "\n",
    "        if is_first_frame:\n",
    "            # sets initial condition for moving average\n",
    "            avgx1, avgy1, avgx2, avgy2 = left_x_bottom, h, left_x_top, upper_boundary\n",
    "        else:\n",
    "            avgx1, avgy1, avgx2, avgy2 = avgLeft\n",
    "\n",
    "        # for the set of all images in a video\n",
    "        # compute an averaged line for every single frame\n",
    "        avgLeft = (movingAverage(avgx1, left_x_bottom),\n",
    "                   movingAverage(avgy1, h),\n",
    "                   movingAverage(avgx2, left_x_top),\n",
    "                   movingAverage(avgy2, upper_boundary))\n",
    "        avgx1, avgy1, avgx2, avgy2 = avgLeft\n",
    "\n",
    "        # draw the line\n",
    "        cv2.line(img, (int(avgx1), int(avgy1)), (int(avgx2), int(avgy2)), color, thickness)  # draw left line\n",
    "\n",
    "    # for right line same as y\n",
    "    if (right_lines_count > 0):\n",
    "        right_y_avg = right_y_avg / right_lines_count\n",
    "        right_x_avg = right_x_avg / right_lines_count\n",
    "        right_slope_avg = right_slope_avg / right_lines_count\n",
    "        right_beta = right_y_avg - (right_slope_avg * right_x_avg)\n",
    "        right_x_bottom = (0 - right_beta) / right_slope_avg\n",
    "        right_x_top = ((h-upper_boundary) - right_beta) / right_slope_avg\n",
    "\n",
    "        global avgRight\n",
    "\n",
    "        if is_first_frame:\n",
    "            avgx1, avgy1, avgx2, avgy2 = right_x_bottom, h, right_x_top, upper_boundary\n",
    "        else:\n",
    "            avgx1, avgy1, avgx2, avgy2 = avgRight\n",
    "\n",
    "        avgRight = (movingAverage(avgx1, right_x_bottom),\n",
    "                    movingAverage(avgy1, h),\n",
    "                    movingAverage(avgx2, right_x_top),\n",
    "                    movingAverage(avgy2, upper_boundary))\n",
    "        avgx1, avgy1, avgx2, avgy2 = avgRight\n",
    "\n",
    "        cv2.line(img, (int(avgx1), int(avgy1)), (int(avgx2), int(avgy2)), color, thickness)  # draw left line\n",
    "\n",
    "    is_first_frame = False\n",
    "\n",
    "def hough_lines(img, rho, theta, threshold, min_line_len, max_line_gap, upper_boundary):\n",
    "    \"\"\"\n",
    "    `img` should be the output of a Canny transform.\n",
    "\n",
    "    Returns an image with hough lines drawn.\n",
    "    \"\"\"\n",
    "    lines = cv2.HoughLinesP(img, rho, theta, threshold, np.array([]), minLineLength=min_line_len,\n",
    "                            maxLineGap=max_line_gap)\n",
    "    line_img = np.zeros((img.shape[0], img.shape[1], 3), dtype=np.uint8)\n",
    "    draw_lines(line_img, lines, upper_boundary)\n",
    "    return line_img\n",
    "\n",
    "# Python 3 has support for cool math symbols.\n",
    "\n",
    "def weighted_img(img, initial_img, α=0.8, β=1., λ=0.):\n",
    "    \"\"\"\n",
    "    `img` is the output of the hough_lines(), An image with lines drawn on it.\n",
    "    Should be a blank image (all black) with lines drawn on it.\n",
    "    \n",
    "    `initial_img` should be the image before any processing.\n",
    "    \n",
    "    The result image is computed as follows:\n",
    "    \n",
    "    initial_img * α + img * β + λ\n",
    "    NOTE: initial_img and img must be the same shape!\n",
    "    \"\"\"\n",
    "    return cv2.addWeighted(initial_img, α, img, β, λ)"
   ]
  },
  {
   "cell_type": "markdown",
   "metadata": {},
   "source": [
    "## Build a Lane Finding Pipeline\n",
    "\n"
   ]
  },
  {
   "cell_type": "markdown",
   "metadata": {},
   "source": [
    "Build the pipeline and run your solution on all test_images. Make copies into the test_images directory, and you can use the images in your writeup report.\n",
    "\n",
    "Try tuning the various parameters, especially the low and high Canny thresholds as well as the Hough lines parameters."
   ]
  },
  {
   "cell_type": "code",
   "execution_count": 3,
   "metadata": {
    "collapsed": true
   },
   "outputs": [],
   "source": [
    "def process_image(image):\n",
    "    # Grayscale the image and define a white mask\n",
    "    gray = grayscale(image)\n",
    "    mask_white = cv2.inRange(gray, 200, 255)\n",
    "    \n",
    "    # Use the hsv = [hue, saturation, value] representation of the image\n",
    "    # which allows to select accurate range for yellow\n",
    "    # Proper values for range found in google\n",
    "    # Define a yellow mask\n",
    "    image_hsv = cv2.cvtColor(image, cv2.COLOR_RGB2HSV)\n",
    "    lower_yellow = np.array([20, 100, 100], dtype=\"uint8\")\n",
    "    upper_yellow = np.array([30, 255, 255], dtype=\"uint8\")\n",
    "    mask_yellow = cv2.inRange(image_hsv, lower_yellow, upper_yellow)\n",
    "    \n",
    "    # Retrieve the final masked image\n",
    "    mask_yellow_white = cv2.bitwise_or(mask_white, mask_yellow)\n",
    "    mask_yellow_white_image = cv2.bitwise_and(gray, mask_yellow_white)\n",
    "\n",
    "    # Define a kernel size and apply Gaussian smoothing\n",
    "    kernel_size = 5\n",
    "    blur_gray = gaussian_blur(mask_yellow_white_image, kernel_size)\n",
    "\n",
    "    # Define our parameters for Canny and apply\n",
    "    # Used the same parameters as in exercises\n",
    "    low_threshold = 50\n",
    "    high_threshold = 150\n",
    "    edges = canny(blur_gray, low_threshold, high_threshold)\n",
    "\n",
    "    # Define mask\n",
    "    # Using the following values for the mask, led to perfect annotations in static images\n",
    "    # lower_left = (140, 540)\n",
    "    # top_left = (435, 330)\n",
    "    # top_right = (535, 330)\n",
    "    # lower_right = (900, 540)\n",
    "\n",
    "    # The videos needed a variable definition for the mask though...\n",
    "    image_shape = image.shape\n",
    "\n",
    "    # Define the upper value (h-y) for the defined mask\n",
    "    # The lower boundary is h\n",
    "    upper_boundary = image_shape[0]/2 + image_shape[0]/8.5\n",
    "\n",
    "    lower_left = [image_shape[1]/9, image_shape[0]]\n",
    "    lower_right = [image_shape[1]-image_shape[1]/9, image_shape[0]]\n",
    "    top_left = [image_shape[1]/2-image_shape[1]/8, upper_boundary]\n",
    "    top_right = [image_shape[1]/2+image_shape[1]/8, upper_boundary]\n",
    "    vertices = [np.array([lower_left, top_left, top_right, lower_right], dtype=np.int32)]\n",
    "    masked_edges = region_of_interest(edges, vertices)\n",
    "\n",
    "    # Define the Hough transform parameters\n",
    "    # Those values are significaly different from the values used in the exercises\n",
    "    rho = 4                 # distance resolution in pixels of the Hough grid\n",
    "    theta = np.pi/180       # angular resolution in radians of the Hough grid\n",
    "    threshold = 30          # minimum number of votes (intersections in Hough grid cell)\n",
    "    min_line_length = 100   # minimum number of pixels making up a line\n",
    "    max_line_gap = 180      # maximum gap in pixels between connectable line segments\n",
    "\n",
    "    # Run Hough on edge detected image\n",
    "    line_image = hough_lines(masked_edges, rho, theta, threshold,\n",
    "                             min_line_length, max_line_gap, upper_boundary)\n",
    "\n",
    "    # Draw the lines on the input image\n",
    "    annotated_image = weighted_img(line_image, image, 0.8, 1, 0)\n",
    "\n",
    "    return annotated_image"
   ]
  },
  {
   "cell_type": "markdown",
   "metadata": {},
   "source": [
    "## Test Images\n",
    "\n",
    "Build your pipeline to work on the images in the directory \"test_images\"  \n",
    "**You should make sure your pipeline works well on these images before you try the videos.**"
   ]
  },
  {
   "cell_type": "code",
   "execution_count": 4,
   "metadata": {
    "collapsed": false
   },
   "outputs": [],
   "source": [
    "for image_name in os.listdir(\"test_images/\"):\n",
    "    image = mpimg.imread('test_images/' + image_name)\n",
    "    image_processed = process_image(image)\n",
    "    mpimg.imsave(\"annotated_images/annotated_\" + image_name, image_processed)"
   ]
  },
  {
   "cell_type": "markdown",
   "metadata": {},
   "source": [
    "## Test on Videos\n",
    "\n",
    "You know what's cooler than drawing lanes over images? Drawing lanes over video!\n",
    "\n",
    "We can test our solution on two provided videos:"
   ]
  },
  {
   "cell_type": "markdown",
   "metadata": {},
   "source": [
    "Let's try the one with the solid white lane on the right first ..."
   ]
  },
  {
   "cell_type": "code",
   "execution_count": 5,
   "metadata": {
    "collapsed": false
   },
   "outputs": [
    {
     "name": "stdout",
     "output_type": "stream",
     "text": [
      "[MoviePy] >>>> Building video annotated_videos/white.mp4\n",
      "[MoviePy] Writing video annotated_videos/white.mp4\n"
     ]
    },
    {
     "name": "stderr",
     "output_type": "stream",
     "text": [
      "100%|█████████▉| 221/222 [00:05<00:00, 36.84it/s]\n"
     ]
    },
    {
     "name": "stdout",
     "output_type": "stream",
     "text": [
      "[MoviePy] Done.\n",
      "[MoviePy] >>>> Video ready: annotated_videos/white.mp4 \n",
      "\n",
      "Wall time: 6.73 s\n"
     ]
    }
   ],
   "source": [
    "# Tries to identify if we process the first frame of the video stream in\n",
    "# order to set initial conditions for the moving average used for smoothing\n",
    "is_first_frame = True\n",
    "\n",
    "# Execute the pipeline for the video file\n",
    "white_output = 'annotated_videos/white.mp4'\n",
    "clip1 = VideoFileClip(\"test_videos/solidWhiteRight.mp4\")\n",
    "white_clip = clip1.fl_image(process_image) #NOTE: this function expects color images!!\n",
    "%time white_clip.write_videofile(white_output, audio=False)"
   ]
  },
  {
   "cell_type": "markdown",
   "metadata": {},
   "source": [
    "Play the video inline, or if you prefer find the video in your filesystem (should be in the same directory) and play it in your video player of choice."
   ]
  },
  {
   "cell_type": "code",
   "execution_count": 6,
   "metadata": {
    "collapsed": false
   },
   "outputs": [
    {
     "data": {
      "text/html": [
       "\n",
       "<video width=\"960\" height=\"540\" controls>\n",
       "  <source src=\"annotated_videos/white.mp4\">\n",
       "</video>\n"
      ],
      "text/plain": [
       "<IPython.core.display.HTML object>"
      ]
     },
     "execution_count": 6,
     "metadata": {},
     "output_type": "execute_result"
    }
   ],
   "source": [
    "HTML(\"\"\"\n",
    "<video width=\"960\" height=\"540\" controls>\n",
    "  <source src=\"{0}\">\n",
    "</video>\n",
    "\"\"\".format(white_output))"
   ]
  },
  {
   "cell_type": "markdown",
   "metadata": {},
   "source": [
    "Now for the one with the solid yellow lane on the left. This one's more tricky!"
   ]
  },
  {
   "cell_type": "code",
   "execution_count": 7,
   "metadata": {
    "collapsed": false
   },
   "outputs": [
    {
     "name": "stdout",
     "output_type": "stream",
     "text": [
      "[MoviePy] >>>> Building video annotated_videos/yellow.mp4\n",
      "[MoviePy] Writing video annotated_videos/yellow.mp4\n"
     ]
    },
    {
     "name": "stderr",
     "output_type": "stream",
     "text": [
      "100%|█████████▉| 681/682 [00:19<00:00, 35.70it/s]\n"
     ]
    },
    {
     "name": "stdout",
     "output_type": "stream",
     "text": [
      "[MoviePy] Done.\n",
      "[MoviePy] >>>> Video ready: annotated_videos/yellow.mp4 \n",
      "\n",
      "Wall time: 19.8 s\n"
     ]
    }
   ],
   "source": [
    "is_first_frame = True\n",
    "yellow_output = 'annotated_videos/yellow.mp4'\n",
    "clip2 = VideoFileClip('test_videos/solidYellowLeft.mp4')\n",
    "yellow_clip = clip2.fl_image(process_image)\n",
    "%time yellow_clip.write_videofile(yellow_output, audio=False)"
   ]
  },
  {
   "cell_type": "code",
   "execution_count": 8,
   "metadata": {
    "collapsed": false
   },
   "outputs": [
    {
     "data": {
      "text/html": [
       "\n",
       "<video width=\"960\" height=\"540\" controls>\n",
       "  <source src=\"annotated_videos/yellow.mp4\">\n",
       "</video>\n"
      ],
      "text/plain": [
       "<IPython.core.display.HTML object>"
      ]
     },
     "execution_count": 8,
     "metadata": {},
     "output_type": "execute_result"
    }
   ],
   "source": [
    "HTML(\"\"\"\n",
    "<video width=\"960\" height=\"540\" controls>\n",
    "  <source src=\"{0}\">\n",
    "</video>\n",
    "\"\"\".format(yellow_output))"
   ]
  },
  {
   "cell_type": "markdown",
   "metadata": {
    "collapsed": true
   },
   "source": [
    "## Optional Challenge\n",
    "\n",
    "Try your lane finding pipeline on the video below.  Does it still work?  Can you figure out a way to make it more robust?  If you're up for the challenge, modify your pipeline so it works with this video and submit it along with the rest of your project!"
   ]
  },
  {
   "cell_type": "code",
   "execution_count": 9,
   "metadata": {
    "collapsed": false
   },
   "outputs": [
    {
     "name": "stdout",
     "output_type": "stream",
     "text": [
      "[MoviePy] >>>> Building video annotated_videos/extra.mp4\n",
      "[MoviePy] Writing video annotated_videos/extra.mp4\n"
     ]
    },
    {
     "name": "stderr",
     "output_type": "stream",
     "text": [
      "100%|██████████| 251/251 [00:13<00:00, 19.45it/s]\n"
     ]
    },
    {
     "name": "stdout",
     "output_type": "stream",
     "text": [
      "[MoviePy] Done.\n",
      "[MoviePy] >>>> Video ready: annotated_videos/extra.mp4 \n",
      "\n",
      "Wall time: 15.1 s\n"
     ]
    }
   ],
   "source": [
    "is_first_frame = True\n",
    "challenge_output = 'annotated_videos/extra.mp4'\n",
    "clip2 = VideoFileClip('test_videos/challenge.mp4')\n",
    "challenge_clip = clip2.fl_image(process_image)\n",
    "%time challenge_clip.write_videofile(challenge_output, audio=False)"
   ]
  },
  {
   "cell_type": "code",
   "execution_count": 10,
   "metadata": {
    "collapsed": false
   },
   "outputs": [
    {
     "data": {
      "text/html": [
       "\n",
       "<video width=\"960\" height=\"540\" controls>\n",
       "  <source src=\"annotated_videos/extra.mp4\">\n",
       "</video>\n"
      ],
      "text/plain": [
       "<IPython.core.display.HTML object>"
      ]
     },
     "execution_count": 10,
     "metadata": {},
     "output_type": "execute_result"
    }
   ],
   "source": [
    "HTML(\"\"\"\n",
    "<video width=\"960\" height=\"540\" controls>\n",
    "  <source src=\"{0}\">\n",
    "</video>\n",
    "\"\"\".format(challenge_output))"
   ]
  }
 ],
 "metadata": {
  "anaconda-cloud": {},
  "kernelspec": {
   "display_name": "Python 3",
   "language": "python",
   "name": "python3"
  },
  "language_info": {
   "codemirror_mode": {
    "name": "ipython",
    "version": 3
   },
   "file_extension": ".py",
   "mimetype": "text/x-python",
   "name": "python",
   "nbconvert_exporter": "python",
   "pygments_lexer": "ipython3",
   "version": "3.5.2"
  }
 },
 "nbformat": 4,
 "nbformat_minor": 0
}
